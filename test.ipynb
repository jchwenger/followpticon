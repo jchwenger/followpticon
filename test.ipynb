{
 "cells": [
  {
   "cell_type": "code",
   "execution_count": 42,
   "id": "6d9c7e23-b9a0-4194-b65e-68c88cbb6602",
   "metadata": {},
   "outputs": [],
   "source": [
    "import json\n",
    "import glob\n",
    "import pathlib\n",
    "import zipfile"
   ]
  },
  {
   "cell_type": "code",
   "execution_count": 46,
   "id": "cea66dd5-5f47-48b6-8f28-a89179d34d7f",
   "metadata": {},
   "outputs": [],
   "source": [
    "zip_fnames = glob.glob(\"*.zip\")\n",
    "zip_fnames\n",
    "\n",
    "for fn in zip_fnames:\n",
    "    with zipfile.ZipFile(fn, 'r') as zip_ref:\n",
    "        zip_ref.extractall(\".\")"
   ]
  },
  {
   "cell_type": "code",
   "execution_count": 10,
   "id": "ba826b07-cd29-4682-9ddf-d1d429f498ec",
   "metadata": {},
   "outputs": [],
   "source": [
    "d = pathlib.Path(\"connections/followers_and_following/\")\n",
    "d_fers = pathlib.Path(\"followers_1.json\")\n",
    "d_fing = pathlib.Path(\"following.json\")\n",
    "\n",
    "with (d/d_fers).open() as i:\n",
    "    followers_data = json.load(i)\n",
    "with (d/d_fing).open() as i:    \n",
    "    following_data = json.load(i)"
   ]
  },
  {
   "cell_type": "code",
   "execution_count": 29,
   "id": "9824fa6b-78de-4ae5-a15d-04a65805a5e0",
   "metadata": {},
   "outputs": [],
   "source": [
    "followers = set([f['string_list_data'][0]['value'] for f in followers_data])\n",
    "following = set([f['string_list_data'][0]['value'] for f in following_data['relationships_following']])"
   ]
  },
  {
   "cell_type": "code",
   "execution_count": 48,
   "id": "4de990fc-498a-4311-bdd7-80a86f042314",
   "metadata": {},
   "outputs": [
    {
     "name": "stdout",
     "output_type": "stream",
     "text": [
      "They follow you, you don't follow them:\n",
      "\n",
      "fake.abrar_\n",
      "tcreatelearn\n",
      "thomas_le_goff88\n",
      "skyla.walls\n",
      "arya.moss\n",
      "patriciababy11235\n",
      "octaviancres\n",
      "gaspard_prod\n",
      "lenaig.cariou\n",
      "still1mage\n",
      "reu_nathaniel\n",
      "gladius.ensa\n",
      "marbleplayground\n",
      "balkandancesociety\n",
      "fromxthextower\n",
      "mozgotrance\n",
      "kenzi5211\n",
      "evelinesenescu\n",
      "kostas.palierakis\n",
      "diogo__ph\n",
      "adambarkley\n",
      "verity_rowsell\n",
      "aqilahmisuary\n",
      "jennie.tyuun\n",
      "pgr0th\n",
      "siuruei_art\n",
      "raphaelbrunner01\n",
      "tenderbuttonspress\n",
      "willemworld\n",
      "archivioz\n"
     ]
    }
   ],
   "source": [
    "print(f\"They follow you, you don't follow them:\")\n",
    "print()\n",
    "for f in followers - following:\n",
    "    print(f\"{f}\")"
   ]
  },
  {
   "cell_type": "code",
   "execution_count": 50,
   "id": "48769d0e-4d1f-471a-82e0-52d8ecc97387",
   "metadata": {},
   "outputs": [
    {
     "name": "stdout",
     "output_type": "stream",
     "text": [
      "\n",
      "You follow them, they don't follow you:\n",
      "\n",
      "robhallart\n",
      "in_grid___\n",
      "athens_open_studio\n",
      "friendred.studio\n",
      "pamenarpress\n",
      "rebeccafiebrink\n",
      "daryl.worthington\n",
      "whateleyben2018\n",
      "helenvpritchard\n",
      "mamoruwatanabe_\n",
      "anasofiacalix\n",
      "bexxon333\n",
      "hatchlabs_goldsmiths\n",
      "sergevuille\n",
      "lx.in.spc\n",
      "philippe_franck\n",
      "hundred_years_gallery\n",
      "colormotor\n",
      "teodorasinziana\n",
      "serseluigetti\n",
      "clemencedebaig_art\n",
      "luke.demarest\n",
      "lmlrpt\n",
      "lizaza.2919\n",
      "fabienneformosa\n",
      "goldsmithscomparts\n",
      "tawnyarenelle\n",
      "soogbet\n",
      "julianbramleyburgess\n",
      "_nate_bliss_\n",
      "oishi_stuff\n",
      "transcultures\n",
      "vernacularpublishing\n",
      "jtreg\n",
      "pswgallery\n",
      "juliamakivic\n",
      "_secretariat\n",
      "_.miriam.morris._\n"
     ]
    }
   ],
   "source": [
    "print()\n",
    "\n",
    "print(f\"You follow them, they don't follow you:\")\n",
    "print()\n",
    "\n",
    "for f in following - followers:\n",
    "    print(f\"{f}\")"
   ]
  }
 ],
 "metadata": {
  "kernelspec": {
   "display_name": "Python 3 (ipykernel)",
   "language": "python",
   "name": "python3"
  },
  "language_info": {
   "codemirror_mode": {
    "name": "ipython",
    "version": 3
   },
   "file_extension": ".py",
   "mimetype": "text/x-python",
   "name": "python",
   "nbconvert_exporter": "python",
   "pygments_lexer": "ipython3",
   "version": "3.12.2"
  }
 },
 "nbformat": 4,
 "nbformat_minor": 5
}
